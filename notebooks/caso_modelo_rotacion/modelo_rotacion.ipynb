{
 "cells": [
  {
   "cell_type": "markdown",
   "id": "6b334cf0",
   "metadata": {},
   "source": [
    "# 🔍 Caso de Uso: Predicción de Rotación de Empleados"
   ]
  },
  {
   "cell_type": "code",
   "execution_count": 2,
   "id": "2215be83",
   "metadata": {},
   "outputs": [
    {
     "name": "stdout",
     "output_type": "stream",
     "text": [
      "📊 Matriz de Confusión:\n",
      " [[3 0]\n",
      " [0 3]]\n",
      "🎯 Exactitud (accuracy): 1.00\n",
      "🎯 Precisión: 1.00\n",
      "🎯 F4 Score: 1.00\n"
     ]
    },
    {
     "data": {
      "image/png": "[encoded data removed]",
      "text/plain": [
       "<Figure size 640x480 with 2 Axes>"
      ]
     },
     "metadata": {},
     "output_type": "display_data"
    }
   ],
   "source": [
    "import pandas as pd\n",
    "from sklearn.model_selection import train_test_split\n",
    "from sklearn.ensemble import RandomForestClassifier\n",
    "from sklearn.metrics import confusion_matrix, accuracy_score, precision_score, fbeta_score, ConfusionMatrixDisplay\n",
    "import matplotlib.pyplot as plt\n",
    "\n",
    "# Cargar datos\n",
    "df = pd.read_csv(\"rotacion_empleados.csv\")\n",
    "\n",
    "# Separar variables\n",
    "X = df.drop(\"Rotacion\", axis=1)\n",
    "y = df[\"Rotacion\"]\n",
    "\n",
    "# División train/test\n",
    "X_train, X_test, y_train, y_test = train_test_split(X, y, test_size=0.3, random_state=42)\n",
    "\n",
    "# Modelo\n",
    "modelo = RandomForestClassifier(random_state=42)\n",
    "modelo.fit(X_train, y_train)\n",
    "\n",
    "# Predicciones\n",
    "y_pred = modelo.predict(X_test)\n",
    "\n",
    "# Métricas\n",
    "cm = confusion_matrix(y_test, y_pred)\n",
    "accuracy = accuracy_score(y_test, y_pred)\n",
    "precision = precision_score(y_test, y_pred)\n",
    "f4 = fbeta_score(y_test, y_pred, beta=4)\n",
    "\n",
    "print(\"📊 Matriz de Confusión:\\n\", cm)\n",
    "print(f\"🎯 Exactitud (accuracy): {accuracy:.2f}\")\n",
    "print(f\"🎯 Precisión: {precision:.2f}\")\n",
    "print(f\"🎯 F4 Score: {f4:.2f}\")\n",
    "\n",
    "# Mostrar matriz gráficamente\n",
    "disp = ConfusionMatrixDisplay(confusion_matrix=cm)\n",
    "disp.plot()\n",
    "plt.show()\n"
   ]
  },
  {
   "cell_type": "markdown",
   "id": "b043b203",
   "metadata": {},
   "source": [
    "Se utilizó un algoritmo Random Forest Classifier, entrenado con el 70% de los datos y evaluado con el 30% restante. Este modelo es ideal para este tipo de problemas porque maneja bien relaciones no lineales y reduce el riesgo de sobreajuste.\n",
    "\n",
    "Las métricas empleadas para evaluar el desempeño fueron:\n",
    "\n",
    "Accuracy: mide el porcentaje de aciertos generales del modelo.\n",
    "\n",
    "Precision: mide cuán preciso es el modelo al predecir una rotación positiva.\n",
    "\n",
    "F4 Score: se utilizó esta versión del F-score porque da más peso a minimizar falsos negativos, es decir, casos en los que un empleado efectivamente se irá pero el modelo no lo detecta.\n",
    "\n",
    "Esto tiene sentido desde una lógica empresarial: es más costoso no anticipar la salida de un empleado clave que sobreestimar una rotación.\n",
    "\n",
    "El modelo logra anticipar posibles rotaciones, lo cual puede ser usado para aplicar estrategias de retención como entrevistas de feedback, revisión salarial o mejora de condiciones. A pesar de que el conjunto de datos es pequeño, se configura un flujo de trabajo válido para escalar a escenarios más grandes."
   ]
  }
 ],
 "metadata": {
  "kernelspec": {
   "display_name": "Python 3",
   "language": "python",
   "name": "python3"
  },
  "language_info": {
   "codemirror_mode": {
    "name": "ipython",
    "version": 3
   },
   "file_extension": ".py",
   "mimetype": "text/x-python",
   "name": "python",
   "nbconvert_exporter": "python",
   "pygments_lexer": "ipython3",
   "version": "3.12.1"
  }
 },
 "nbformat": 4,
 "nbformat_minor": 5
}
